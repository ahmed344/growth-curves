{
 "cells": [
  {
   "cell_type": "code",
   "execution_count": 1,
   "id": "930abe94-799e-45c0-9450-2aceb4059721",
   "metadata": {},
   "outputs": [],
   "source": [
    "import numpy as np\n",
    "import matplotlib.pyplot as plt\n",
    "import pandas as pd\n",
    "import os"
   ]
  },
  {
   "cell_type": "code",
   "execution_count": 2,
   "id": "7b81d8f8-3d4e-49c2-a780-3144057f5586",
   "metadata": {},
   "outputs": [
    {
     "data": {
      "text/plain": [
       "['20201216_Mouse_Ecad_NTA3_on_SOPC3',\n",
       " '20210112_Mouse_Ecad_NTA3_on_SOPC3',\n",
       " '20210122_Mouse_Ecad_NTA3_on_SOPC3',\n",
       " '20210212_Mouse_Ecad_NTA3_on_SOPC3',\n",
       " '20220303_Human_Ecad_NTA2_on_SOPC2',\n",
       " '20220310_Human_Ecad_NTA2_on_DPPC2']"
      ]
     },
     "execution_count": 2,
     "metadata": {},
     "output_type": "execute_result"
    }
   ],
   "source": [
    "experiments = os.listdir('Data')\n",
    "experiments.sort()\n",
    "experiments"
   ]
  },
  {
   "cell_type": "code",
   "execution_count": 3,
   "id": "6b795cbe-5848-4641-8e6e-dcc846f2f9b7",
   "metadata": {},
   "outputs": [],
   "source": [
    "date, protein, discription = [], [], []\n",
    "\n",
    "for experiment in experiments:\n",
    "    \n",
    "    # Extract the date of the experiment\n",
    "    date.append(experiment.split('_')[0])\n",
    "    \n",
    "    # Extract the protein name\n",
    "    protein_ = ''\n",
    "    for word in experiment.split('_')[1:3]:\n",
    "        protein_ += word + ' '\n",
    "    protein.append(protein_[:-1])\n",
    "    \n",
    "    # Extract the discription\n",
    "    discription_ = ''\n",
    "    for word in experiment.split('_')[3:]:\n",
    "        discription_ += word + ' '\n",
    "    discription.append(discription_[:-1])\n",
    "    \n",
    "    "
   ]
  },
  {
   "cell_type": "code",
   "execution_count": 4,
   "id": "21b719ed-eb4e-4272-bec1-45e8cddb59fc",
   "metadata": {},
   "outputs": [
    {
     "data": {
      "text/plain": [
       "['20201216', '20210112', '20210122', '20210212', '20220303', '20220310']"
      ]
     },
     "execution_count": 4,
     "metadata": {},
     "output_type": "execute_result"
    }
   ],
   "source": [
    "date"
   ]
  },
  {
   "cell_type": "code",
   "execution_count": 5,
   "id": "967e9b36-b565-4d9e-a97f-d12e9d45da52",
   "metadata": {},
   "outputs": [
    {
     "data": {
      "text/plain": [
       "['Mouse Ecad',\n",
       " 'Mouse Ecad',\n",
       " 'Mouse Ecad',\n",
       " 'Mouse Ecad',\n",
       " 'Human Ecad',\n",
       " 'Human Ecad']"
      ]
     },
     "execution_count": 5,
     "metadata": {},
     "output_type": "execute_result"
    }
   ],
   "source": [
    "protein"
   ]
  },
  {
   "cell_type": "code",
   "execution_count": 6,
   "id": "bf328a73-8965-4d14-ac81-e3c531804745",
   "metadata": {},
   "outputs": [
    {
     "data": {
      "text/plain": [
       "['NTA3 on SOPC3',\n",
       " 'NTA3 on SOPC3',\n",
       " 'NTA3 on SOPC3',\n",
       " 'NTA3 on SOPC3',\n",
       " 'NTA2 on SOPC2',\n",
       " 'NTA2 on DPPC2']"
      ]
     },
     "execution_count": 6,
     "metadata": {},
     "output_type": "execute_result"
    }
   ],
   "source": [
    "discription"
   ]
  },
  {
   "cell_type": "code",
   "execution_count": null,
   "id": "da3a04c9-2cce-477f-937b-38689ec2745a",
   "metadata": {},
   "outputs": [],
   "source": []
  }
 ],
 "metadata": {
  "kernelspec": {
   "display_name": "Python 3 (ipykernel)",
   "language": "python",
   "name": "python3"
  },
  "language_info": {
   "codemirror_mode": {
    "name": "ipython",
    "version": 3
   },
   "file_extension": ".py",
   "mimetype": "text/x-python",
   "name": "python",
   "nbconvert_exporter": "python",
   "pygments_lexer": "ipython3",
   "version": "3.10.4"
  }
 },
 "nbformat": 4,
 "nbformat_minor": 5
}
